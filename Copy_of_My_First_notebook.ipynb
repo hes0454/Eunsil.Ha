{
  "nbformat": 4,
  "nbformat_minor": 0,
  "metadata": {
    "colab": {
      "provenance": [],
      "authorship_tag": "ABX9TyMBZrB5WxhjSRu5LG6jZFvG",
      "include_colab_link": true
    },
    "kernelspec": {
      "name": "python3",
      "display_name": "Python 3"
    },
    "language_info": {
      "name": "python"
    }
  },
  "cells": [
    {
      "cell_type": "markdown",
      "metadata": {
        "id": "view-in-github",
        "colab_type": "text"
      },
      "source": [
        "<a href=\"https://colab.research.google.com/github/hes0454/Eunsil.Ha/blob/main/Copy_of_My_First_notebook.ipynb\" target=\"_parent\"><img src=\"https://colab.research.google.com/assets/colab-badge.svg\" alt=\"Open In Colab\"/></a>"
      ]
    },
    {
      "cell_type": "code",
      "execution_count": null,
      "metadata": {
        "id": "wpPvjI6_lUB_"
      },
      "outputs": [],
      "source": []
    },
    {
      "cell_type": "markdown",
      "source": [
        "Example Text goes here\n",
        "Heading 1\n",
        "#This represents the contents of heading 1\n",
        "\n"
      ],
      "metadata": {
        "id": "ATnX47aMllrC"
      }
    },
    {
      "cell_type": "code",
      "source": [
        "a = 1"
      ],
      "metadata": {
        "id": "LDxisEk3mPwN"
      },
      "execution_count": null,
      "outputs": []
    },
    {
      "cell_type": "markdown",
      "source": [],
      "metadata": {
        "id": "_sd6sSq7mIuG"
      }
    },
    {
      "cell_type": "code",
      "source": [
        "b = \"data\""
      ],
      "metadata": {
        "id": "iLgqfNw-mCmQ"
      },
      "execution_count": null,
      "outputs": []
    },
    {
      "cell_type": "markdown",
      "source": [],
      "metadata": {
        "id": "f2gyba0xFFjN"
      }
    },
    {
      "cell_type": "code",
      "source": [
        "c = [1,2,3,4,5]"
      ],
      "metadata": {
        "id": "MPDHVNP-FGTk"
      },
      "execution_count": null,
      "outputs": []
    },
    {
      "cell_type": "code",
      "source": [
        "d = [\"John\", \"Sally\", \" Joe\", \"Suzi\",\"Jack\"]"
      ],
      "metadata": {
        "id": "BXMYcZBvmsc2"
      },
      "execution_count": null,
      "outputs": []
    },
    {
      "cell_type": "code",
      "source": [
        "\n",
        "for i,j in zip(c,d):\n",
        "  if i ==1:\n",
        "    print(j +' has ' +  str(i) + ' car.')\n",
        "  else:\n",
        "      print(j +' has ' +  str(i) + ' cars.')\n",
        "      \n",
        "\n",
        "\n"
      ],
      "metadata": {
        "colab": {
          "base_uri": "https://localhost:8080/"
        },
        "id": "jdZVv16Yoa7T",
        "outputId": "d8d459e2-aab4-4d2f-a137-59259f91b5f1"
      },
      "execution_count": null,
      "outputs": [
        {
          "output_type": "stream",
          "name": "stdout",
          "text": [
            "John has 1 car.\n",
            "Sally has 2 cars.\n",
            " Joe has 3 cars.\n",
            "Suzi has 4 cars.\n",
            "Jack has 5 cars.\n"
          ]
        }
      ]
    },
    {
      "cell_type": "code",
      "source": [
        "num = 5\n",
        "num = 3\n",
        "print(5+3)\n",
        "print(5*3)\n",
        "print(5/3)\n",
        "print(5**3)\n",
        "print(\"-\"*20)\n",
        "\n"
      ],
      "metadata": {
        "colab": {
          "base_uri": "https://localhost:8080/"
        },
        "id": "BxFAtsBUkGNY",
        "outputId": "fc7462db-c025-45e9-b21f-c2e7008417cc"
      },
      "execution_count": null,
      "outputs": [
        {
          "output_type": "stream",
          "name": "stdout",
          "text": [
            "8\n",
            "15\n",
            "1.6666666666666667\n",
            "125\n",
            "--------------------\n"
          ]
        }
      ]
    },
    {
      "cell_type": "code",
      "source": [
        "num=input(\"Enter the age : \")\n",
        "if age>= 18:\n",
        "  print(\"Elligible to vote!\")\n"
      ],
      "metadata": {
        "colab": {
          "base_uri": "https://localhost:8080/"
        },
        "id": "tHqA9X9tk8Sv",
        "outputId": "01cb8b47-6b26-4af7-ca1e-2650f072aa2f"
      },
      "execution_count": null,
      "outputs": [
        {
          "output_type": "stream",
          "name": "stdout",
          "text": [
            "Elligible to vote!\n"
          ]
        }
      ]
    },
    {
      "cell_type": "code",
      "source": [],
      "metadata": {
        "id": "cnkfWyhao8WA"
      },
      "execution_count": null,
      "outputs": []
    },
    {
      "cell_type": "code",
      "source": [
        "num=input(\"Enter the number : \")\n",
        "print(type(num))\n",
        "num1= float(input(\"enter the number: \"))\n",
        "print(type(num1))\n"
      ],
      "metadata": {
        "colab": {
          "base_uri": "https://localhost:8080/"
        },
        "id": "YaosIS_el-1h",
        "outputId": "fa9e4f41-213e-4591-9547-c9a44723a99e"
      },
      "execution_count": null,
      "outputs": [
        {
          "output_type": "stream",
          "name": "stdout",
          "text": [
            "Enter the number : 5\n",
            "<class 'str'>\n",
            "enter the number: 3\n",
            "<class 'float'>\n"
          ]
        }
      ]
    },
    {
      "cell_type": "code",
      "source": [
        "def display():\n",
        "  print(\"Hello\")"
      ],
      "metadata": {
        "id": "F_46MBDLtMkT"
      },
      "execution_count": null,
      "outputs": []
    },
    {
      "cell_type": "code",
      "source": [
        "display()\n"
      ],
      "metadata": {
        "colab": {
          "base_uri": "https://localhost:8080/"
        },
        "id": "P1s_vBxqtcz5",
        "outputId": "eb36be34-7e95-4b71-8b0f-80b74ab0fb0a"
      },
      "execution_count": null,
      "outputs": [
        {
          "output_type": "stream",
          "name": "stdout",
          "text": [
            "Hello\n"
          ]
        }
      ]
    },
    {
      "cell_type": "code",
      "source": [
        "num = int(input(\" Enter non negative integer to take the factorial of ; \"))\n",
        "factorial = 1\n",
        "for i in range(num):\n",
        "    factorial*=i+1\n",
        " \n",
        "print(factorial)\n",
        "\n",
        "\n"
      ],
      "metadata": {
        "id": "loimYqljzuem"
      },
      "execution_count": null,
      "outputs": []
    },
    {
      "cell_type": "code",
      "source": [],
      "metadata": {
        "id": "DAU9ZKFvJTSn"
      },
      "execution_count": null,
      "outputs": []
    },
    {
      "cell_type": "code",
      "source": [
        "def raise_to_power(base_num, pow_num):\n",
        "    result = 1\n",
        "    for index in range(pow_num):\n",
        "        result = result * base_num\n",
        "    return result\n",
        "  \n",
        "print(raise_to_power(3,2))\n",
        "      "
      ],
      "metadata": {
        "id": "ibZsGLVRMpEl",
        "colab": {
          "base_uri": "https://localhost:8080/"
        },
        "outputId": "dc907a9c-62c5-4745-d068-6b46924461eb"
      },
      "execution_count": null,
      "outputs": [
        {
          "output_type": "stream",
          "name": "stdout",
          "text": [
            "9\n"
          ]
        }
      ]
    },
    {
      "cell_type": "code",
      "source": [
        "\n",
        "\n",
        "phrase = \"Haha Academy\"\n",
        "print(phrase.replace(\"Haha\", \"Hoho\"))\n"
      ],
      "metadata": {
        "colab": {
          "base_uri": "https://localhost:8080/"
        },
        "id": "le4FZWhVUGlz",
        "outputId": "72fd46fe-5d17-480e-eb61-fe01886c801c"
      },
      "execution_count": null,
      "outputs": [
        {
          "output_type": "stream",
          "name": "stdout",
          "text": [
            "Hoho Academy\n"
          ]
        }
      ]
    },
    {
      "cell_type": "code",
      "source": [
        "from IPython.utils.text import columnize\n",
        "number_grid = [\n",
        "    [1,2,3],\n",
        "    [0]\n",
        "    \n",
        "]\n",
        "\n",
        "for row in number_grid:\n",
        "    for col in row:\n",
        "        print(col)\n",
        "\n",
        "    "
      ],
      "metadata": {
        "colab": {
          "base_uri": "https://localhost:8080/"
        },
        "id": "5UqQg_LZoLta",
        "outputId": "28c4599e-1016-4152-c06c-6b119d5ce4f9"
      },
      "execution_count": 44,
      "outputs": [
        {
          "output_type": "stream",
          "name": "stdout",
          "text": [
            "1\n",
            "2\n",
            "3\n",
            "0\n"
          ]
        }
      ]
    },
    {
      "cell_type": "code",
      "source": [
        "def translate(phrase):\n",
        "  translation = \"\"\n",
        "  for letter in phrase:\n",
        "      if letter.lower() in \"aeiou\":\n",
        "        if letter.isupper():\n",
        "          translation = translation + \"g\"\n",
        "\n",
        "      else:\n",
        "        translation = translation + letter\n",
        "  return translation\n",
        "\n",
        "print(translate('To be or Not to be'))\n",
        "\n",
        "\n"
      ],
      "metadata": {
        "colab": {
          "base_uri": "https://localhost:8080/"
        },
        "id": "e6O-6Cg4sQ23",
        "outputId": "70b64db2-d182-4006-b5cd-ca21852d3cde"
      },
      "execution_count": 66,
      "outputs": [
        {
          "output_type": "stream",
          "name": "stdout",
          "text": [
            "T b r Nt t b\n"
          ]
        }
      ]
    },
    {
      "cell_type": "code",
      "source": [
        "num = int(input(\" Enter non negative integer to take the factorial of ; \"))\n",
        "factorial = 1\n",
        "for i in range(num):\n",
        "    factorial*=i+1\n",
        " \n",
        "print(factorial)\n",
        "\n",
        "\n"
      ],
      "metadata": {
        "id": "ZznXb3Qtq0Pr"
      },
      "execution_count": null,
      "outputs": []
    },
    {
      "cell_type": "code",
      "source": [
        "num = int(input(\" Enter non negative integer to take the factorial of ; \"))\n",
        "factorial = 1\n",
        "for i in range(num):\n",
        "    factorial*=i+1\n",
        " \n",
        "print(factorial)\n",
        "\n",
        "\n"
      ],
      "metadata": {
        "id": "NYRO3vlIqyGR"
      },
      "execution_count": null,
      "outputs": []
    },
    {
      "cell_type": "code",
      "source": [
        "print (3*4+5)"
      ],
      "metadata": {
        "colab": {
          "base_uri": "https://localhost:8080/"
        },
        "id": "3qUPB1N-VT0D",
        "outputId": "63daeb25-5087-4e28-c7ba-c4ee845da232"
      },
      "execution_count": null,
      "outputs": [
        {
          "output_type": "stream",
          "name": "stdout",
          "text": [
            "17\n"
          ]
        }
      ]
    },
    {
      "cell_type": "code",
      "source": [
        "from math import *\n",
        "\n",
        "my_num = -5\n",
        "print(round(3.7))"
      ],
      "metadata": {
        "colab": {
          "base_uri": "https://localhost:8080/"
        },
        "id": "J9zBbzyLUhkV",
        "outputId": "618d6d29-31d4-436c-9e60-5315127f7297"
      },
      "execution_count": null,
      "outputs": [
        {
          "output_type": "stream",
          "name": "stdout",
          "text": [
            "4\n"
          ]
        }
      ]
    },
    {
      "cell_type": "code",
      "source": [
        "name1 = input(\"enter a number:\")\n",
        "name2 = input(\"Enter another number: \")\n",
        "result = float(name1) + float(name2)\n",
        "print(result)"
      ],
      "metadata": {
        "colab": {
          "base_uri": "https://localhost:8080/"
        },
        "id": "njdCfmE_V2Hx",
        "outputId": "be206c6f-0886-410a-f45b-24db91d3eb24"
      },
      "execution_count": null,
      "outputs": [
        {
          "output_type": "stream",
          "name": "stdout",
          "text": [
            "enter a number:3.0\n",
            "Enter another number: 5.7\n",
            "8.7\n"
          ]
        }
      ]
    },
    {
      "cell_type": "code",
      "source": [
        "lucky_numbers = [4,8,15,16,23,42]\n",
        "lucky_numbers.reverse()\n",
        "print(lucky_numbers)\n",
        "\n",
        "friends = [\"kevin\", \"Karen\",\"Jim\",\"Jim\", \"Oscar\", \"John\"]\n",
        "friends[1] = \"Mike\"\n",
        "friends.sort()\n",
        "friends.extend(lucky_numbers)\n",
        "friends.append(98)\n",
        "friends.insert(1,\"Mary\")\n",
        "friends2 = friends.copy()\n",
        "\n",
        "print(friends[1:])\n",
        "print(friends.count(\"Jim\"))\n",
        "\n",
        "print(friends)\n",
        "print(friends2)\n"
      ],
      "metadata": {
        "colab": {
          "base_uri": "https://localhost:8080/"
        },
        "id": "vnhnTefF-n_p",
        "outputId": "6ef1b3eb-0336-441f-a68c-17bfe128b9a6"
      },
      "execution_count": null,
      "outputs": [
        {
          "output_type": "stream",
          "name": "stdout",
          "text": [
            "[42, 23, 16, 15, 8, 4]\n",
            "['Mary', 'Jim', 'John', 'Mike', 'Oscar', 'kevin', 42, 23, 16, 15, 8, 4, 98]\n",
            "2\n",
            "['Jim', 'Mary', 'Jim', 'John', 'Mike', 'Oscar', 'kevin', 42, 23, 16, 15, 8, 4, 98]\n",
            "['Jim', 'Mary', 'Jim', 'John', 'Mike', 'Oscar', 'kevin', 42, 23, 16, 15, 8, 4, 98]\n"
          ]
        }
      ]
    }
  ]
}